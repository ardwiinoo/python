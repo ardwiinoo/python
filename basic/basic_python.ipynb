{
  "nbformat": 4,
  "nbformat_minor": 0,
  "metadata": {
    "colab": {
      "provenance": [],
      "collapsed_sections": [],
      "authorship_tag": "ABX9TyMM+d7x0SH8suwv8Pfb3xCz",
      "include_colab_link": true
    },
    "kernelspec": {
      "name": "python3",
      "display_name": "Python 3"
    },
    "language_info": {
      "name": "python"
    }
  },
  "cells": [
    {
      "cell_type": "markdown",
      "metadata": {
        "id": "view-in-github",
        "colab_type": "text"
      },
      "source": [
        "<a href=\"https://colab.research.google.com/github/ardwiinoo/python/blob/main/basic/basic_python.ipynb\" target=\"_parent\"><img src=\"https://colab.research.google.com/assets/colab-badge.svg\" alt=\"Open In Colab\"/></a>"
      ]
    },
    {
      "cell_type": "markdown",
      "source": [
        "### #1 Hello World"
      ],
      "metadata": {
        "id": "z3t77mOckHJF"
      }
    },
    {
      "cell_type": "code",
      "execution_count": 7,
      "metadata": {
        "colab": {
          "base_uri": "https://localhost:8080/"
        },
        "id": "IChHG-Uldfg4",
        "outputId": "85189cf5-13ee-4798-c73b-d8263671c043"
      },
      "outputs": [
        {
          "output_type": "stream",
          "name": "stdout",
          "text": [
            "Hello World!\n",
            "0.001739501953125 detik\n"
          ]
        }
      ],
      "source": [
        "import time\n",
        "start_time = time.time()\n",
        "\n",
        "print(\"Hello World!\")\n",
        "\n",
        "# Comment single line\n",
        "\n",
        "print(time.time() - start_time, \"detik\")"
      ]
    },
    {
      "cell_type": "markdown",
      "source": [
        "### #2 Variabel"
      ],
      "metadata": {
        "id": "xXIOsyoQmWg4"
      }
    },
    {
      "cell_type": "code",
      "source": [
        "# tempat menyimpan data\n",
        "# assignment nilai / menaruh\n",
        "a = 10\n",
        "x = 5\n",
        "seribu = 1000\n",
        "\n",
        "print(\"Nilai a = \", a)\n",
        "print(\"Nilai x = \", x)\n",
        "print(\"Nilai seribu = \", seribu)\n",
        "\n",
        "# penamaan\n",
        "nilai_y = 15 \n",
        "juta10 = 10000000 # 10juta = ... ini ga boleh ges\n",
        "nilaiZ = 17.5\n",
        "\n",
        "a = 7\n",
        "print(\"Nilai a = \", a)\n",
        "\n",
        "# assignment indirect\n",
        "b = a\n",
        "print(\"Nilai b = \", b)\n"
      ],
      "metadata": {
        "colab": {
          "base_uri": "https://localhost:8080/"
        },
        "id": "AGW4284zmd9W",
        "outputId": "2c9460d6-dfb7-4b8f-bb5d-be8ee10702b8"
      },
      "execution_count": 13,
      "outputs": [
        {
          "output_type": "stream",
          "name": "stdout",
          "text": [
            "Nilai a =  10\n",
            "Nilai x =  5\n",
            "Nilai seribu =  1000\n",
            "Nilai a =  7\n",
            "Nilai b =  7\n"
          ]
        }
      ]
    },
    {
      "cell_type": "markdown",
      "source": [
        "### #3 Tipe Data"
      ],
      "metadata": {
        "id": "djc92_oPpFAF"
      }
    },
    {
      "cell_type": "code",
      "source": [
        "# tipe data: Angka satuan (integer)\n",
        "data_integer = 1\n",
        "print(\"data : \", data_integer, \", bertipe : \", type(data_integer))\n",
        "\n",
        "# tipe data: Angka dengan koma (float)\n",
        "data_float = 1.5\n",
        "print(\"data : \", data_float, \", bertipe : \", type(data_float))\n",
        "\n",
        "# tipe data: Kumpulan karakter (string)\n",
        "data_string = \"Awas jatoh\"\n",
        "print(\"data : \", data_string, \", bertipe : \", type(data_string))\n",
        "\n",
        "# tipe data: Biner true/false (boolean)\n",
        "data_bool = True\n",
        "print(\"data : \", data_bool, \", bertipe : \", type(data_bool))\n",
        "\n",
        "## tipe data khusus\n",
        "# bilangan kompleks\n",
        "data_complex = complex(5,6)\n",
        "print(\"data : \", data_complex, \", bertipe : \", type(data_complex))\n",
        "\n",
        "# tipe data dari bahasa C\n",
        "from ctypes import c_double, c_char, c_long\n",
        "\n",
        "data_c_double = c_double(10.5)\n",
        "print(\"data : \", data_c_double, \", bertipe : \", type(data_c_double))"
      ],
      "metadata": {
        "colab": {
          "base_uri": "https://localhost:8080/"
        },
        "id": "exwQEUkrpHh2",
        "outputId": "03b2b880-c438-4f85-aa4a-0b9259ad3cd0"
      },
      "execution_count": 24,
      "outputs": [
        {
          "output_type": "stream",
          "name": "stdout",
          "text": [
            "data :  1 , bertipe :  <class 'int'>\n",
            "data :  1.5 , bertipe :  <class 'float'>\n",
            "data :  Awas jatoh , bertipe :  <class 'str'>\n",
            "data :  True , bertipe :  <class 'bool'>\n",
            "data :  (5+6j) , bertipe :  <class 'complex'>\n",
            "data :  c_double(10.5) , bertipe :  <class 'ctypes.c_double'>\n"
          ]
        }
      ]
    },
    {
      "cell_type": "markdown",
      "source": [
        "### #4 Casting Tipe Data"
      ],
      "metadata": {
        "id": "MUQZFjw8sHlO"
      }
    },
    {
      "cell_type": "code",
      "source": [
        "# merubah satu tipe ke tipe lain\n",
        "\n",
        "data_int = 9\n",
        "print(\"data : \", data_int, \", bertipe : \", type(data_int))\n",
        "\n",
        "data_float = float(data_int)\n",
        "data_str = str(data_int)\n",
        "data_bool = bool(data_int)\n",
        "\n",
        "print(\"data : \", data_float, \", bertipe : \", type(data_float))\n",
        "print(\"data : \", data_str, \", bertipe : \", type(data_str))\n",
        "print(\"data : \", data_bool, \", bertipe : \", type(data_bool)) # 0 = false, != 0 true\n",
        "\n",
        "data_int = int(data_float)\n",
        "print(\"data : \", data_int, \", bertipe : \", type(data_int)) # dibulatkan kebawah"
      ],
      "metadata": {
        "colab": {
          "base_uri": "https://localhost:8080/"
        },
        "id": "wlXkUE9tsNBs",
        "outputId": "e8a1c7fe-b47b-4c72-a8ff-1d878acd2382"
      },
      "execution_count": 28,
      "outputs": [
        {
          "output_type": "stream",
          "name": "stdout",
          "text": [
            "data :  9 , bertipe :  <class 'int'>\n",
            "data :  9.0 , bertipe :  <class 'float'>\n",
            "data :  9 , bertipe :  <class 'str'>\n",
            "data :  True , bertipe :  <class 'bool'>\n",
            "data :  9 , bertipe :  <class 'int'>\n"
          ]
        }
      ]
    },
    {
      "cell_type": "markdown",
      "source": [
        "### #5 Mengambil Input User"
      ],
      "metadata": {
        "id": "YytXoKMsuWEn"
      }
    },
    {
      "cell_type": "code",
      "source": [
        "data = input(\"Masukkan data: \")\n",
        "print(\"data = \", data, \", type = \", type(data))\n",
        "\n",
        "data = int(input(\"Masukkan data: \"))\n",
        "print(\"data = \", data, \", type = \", type(data))\n",
        "\n",
        "data = float(input(\"Masukkan data: \"))\n",
        "print(\"data = \", data, \", type = \", type(data))\n",
        "\n",
        "data = bool(int(input(\"Masukkan data: \")))\n",
        "print(\"data = \", data, \", type = \", type(data))"
      ],
      "metadata": {
        "colab": {
          "base_uri": "https://localhost:8080/"
        },
        "id": "PF_LbwBSuaUn",
        "outputId": "7ad87cf3-a512-43e8-db1e-b744a49ddc23"
      },
      "execution_count": 34,
      "outputs": [
        {
          "output_type": "stream",
          "name": "stdout",
          "text": [
            "Masukkan data: 100\n",
            "data =  100 , type =  <class 'str'>\n",
            "Masukkan data: 2\n",
            "data =  2 , type =  <class 'int'>\n",
            "Masukkan data: 2.6\n",
            "data =  2.6 , type =  <class 'float'>\n",
            "Masukkan data: 0\n",
            "data =  False , type =  <class 'bool'>\n"
          ]
        }
      ]
    },
    {
      "cell_type": "markdown",
      "source": [
        "### #6 Aritmatika"
      ],
      "metadata": {
        "id": "6_vgZnMrxxoL"
      }
    },
    {
      "cell_type": "code",
      "source": [
        "a = 10\n",
        "b = 3\n",
        "\n",
        "hasil = a + b\n",
        "print(a, '+', b, '=', hasil)\n",
        "\n",
        "hasil = a - b\n",
        "print(a, '-', b, '=', hasil)\n",
        "\n",
        "hasil = a / b\n",
        "print(a, '/', b, '=', hasil)\n",
        "\n",
        "hasil = a * b\n",
        "print(a, '*', b, '=', hasil)\n",
        "\n",
        "# eksponen (pangkat)\n",
        "hasil = a ** b\n",
        "print(a, '**', b, '=', hasil)\n",
        "\n",
        "# modulus (sisa bagi)\n",
        "hasil = a % b\n",
        "print(a, '%', b, '=', hasil)\n",
        "\n",
        "# floor division (bagi tapi double, kebalikan modulus)\n",
        "hasil = a // b\n",
        "print(a, '//', b, '=', hasil)\n",
        "\n",
        "# prioritas operasi\n",
        "\"\"\"\n",
        "  1. ()\n",
        "  2. exponen **\n",
        "  3. perkalian dan teman-teman * / ** % //\n",
        "  4. pertambahan dan pengurangan\n",
        "\"\"\"\n",
        "x = 3\n",
        "y = 2\n",
        "z = 4\n",
        "\n",
        "hasil = x ** y * z + x / y - y % z // x\n",
        "print(\"Hasil = \", hasil)\n"
      ],
      "metadata": {
        "colab": {
          "base_uri": "https://localhost:8080/"
        },
        "id": "Mr4J8lwJx0tU",
        "outputId": "c4b06c05-4eb4-4a7b-add5-08e4d40676fd"
      },
      "execution_count": 41,
      "outputs": [
        {
          "output_type": "stream",
          "name": "stdout",
          "text": [
            "10 + 3 = 13\n",
            "10 - 3 = 7\n",
            "10 / 3 = 3.3333333333333335\n",
            "10 * 3 = 30\n",
            "10 ** 3 = 1000\n",
            "10 % 3 = 1\n",
            "10 // 3 = 3\n",
            "Hasil =  37.5\n"
          ]
        }
      ]
    }
  ]
}