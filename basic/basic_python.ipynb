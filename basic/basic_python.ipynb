{
  "nbformat": 4,
  "nbformat_minor": 0,
  "metadata": {
    "colab": {
      "provenance": [],
      "collapsed_sections": [],
      "authorship_tag": "ABX9TyPANWOMl9DQdDSsPSGD8Bvo",
      "include_colab_link": true
    },
    "kernelspec": {
      "name": "python3",
      "display_name": "Python 3"
    },
    "language_info": {
      "name": "python"
    }
  },
  "cells": [
    {
      "cell_type": "markdown",
      "metadata": {
        "id": "view-in-github",
        "colab_type": "text"
      },
      "source": [
        "<a href=\"https://colab.research.google.com/github/ardwiinoo/python/blob/main/basic/basic_python.ipynb\" target=\"_parent\"><img src=\"https://colab.research.google.com/assets/colab-badge.svg\" alt=\"Open In Colab\"/></a>"
      ]
    },
    {
      "cell_type": "markdown",
      "source": [
        "### #1 Hello World"
      ],
      "metadata": {
        "id": "z3t77mOckHJF"
      }
    },
    {
      "cell_type": "code",
      "execution_count": 7,
      "metadata": {
        "colab": {
          "base_uri": "https://localhost:8080/"
        },
        "id": "IChHG-Uldfg4",
        "outputId": "85189cf5-13ee-4798-c73b-d8263671c043"
      },
      "outputs": [
        {
          "output_type": "stream",
          "name": "stdout",
          "text": [
            "Hello World!\n",
            "0.001739501953125 detik\n"
          ]
        }
      ],
      "source": [
        "import time\n",
        "start_time = time.time()\n",
        "\n",
        "print(\"Hello World!\")\n",
        "\n",
        "# Comment single line\n",
        "\n",
        "print(time.time() - start_time, \"detik\")"
      ]
    },
    {
      "cell_type": "markdown",
      "source": [
        "### #2 Variabel"
      ],
      "metadata": {
        "id": "xXIOsyoQmWg4"
      }
    },
    {
      "cell_type": "code",
      "source": [
        "# tempat menyimpan data\n",
        "# assignment nilai / menaruh\n",
        "a = 10\n",
        "x = 5\n",
        "seribu = 1000\n",
        "\n",
        "print(\"Nilai a = \", a)\n",
        "print(\"Nilai x = \", x)\n",
        "print(\"Nilai seribu = \", seribu)\n",
        "\n",
        "# penamaan\n",
        "nilai_y = 15 \n",
        "juta10 = 10000000 # 10juta = ... ini ga boleh ges\n",
        "nilaiZ = 17.5\n",
        "\n",
        "a = 7\n",
        "print(\"Nilai a = \", a)\n",
        "\n",
        "# assignment indirect\n",
        "b = a\n",
        "print(\"Nilai b = \", b)\n"
      ],
      "metadata": {
        "colab": {
          "base_uri": "https://localhost:8080/"
        },
        "id": "AGW4284zmd9W",
        "outputId": "2c9460d6-dfb7-4b8f-bb5d-be8ee10702b8"
      },
      "execution_count": 13,
      "outputs": [
        {
          "output_type": "stream",
          "name": "stdout",
          "text": [
            "Nilai a =  10\n",
            "Nilai x =  5\n",
            "Nilai seribu =  1000\n",
            "Nilai a =  7\n",
            "Nilai b =  7\n"
          ]
        }
      ]
    }
  ]
}