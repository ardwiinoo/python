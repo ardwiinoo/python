{
  "nbformat": 4,
  "nbformat_minor": 0,
  "metadata": {
    "colab": {
      "provenance": [],
      "collapsed_sections": [],
      "authorship_tag": "ABX9TyMZSKmoMm2UVysTXlku1CKY",
      "include_colab_link": true
    },
    "kernelspec": {
      "name": "python3",
      "display_name": "Python 3"
    },
    "language_info": {
      "name": "python"
    }
  },
  "cells": [
    {
      "cell_type": "markdown",
      "metadata": {
        "id": "view-in-github",
        "colab_type": "text"
      },
      "source": [
        "<a href=\"https://colab.research.google.com/github/ardwiinoo/python/blob/main/basic/basic_python.ipynb\" target=\"_parent\"><img src=\"https://colab.research.google.com/assets/colab-badge.svg\" alt=\"Open In Colab\"/></a>"
      ]
    },
    {
      "cell_type": "markdown",
      "source": [
        "### #1 Hello World"
      ],
      "metadata": {
        "id": "z3t77mOckHJF"
      }
    },
    {
      "cell_type": "code",
      "execution_count": null,
      "metadata": {
        "colab": {
          "base_uri": "https://localhost:8080/"
        },
        "id": "IChHG-Uldfg4",
        "outputId": "85189cf5-13ee-4798-c73b-d8263671c043"
      },
      "outputs": [
        {
          "output_type": "stream",
          "name": "stdout",
          "text": [
            "Hello World!\n",
            "0.001739501953125 detik\n"
          ]
        }
      ],
      "source": [
        "import time\n",
        "start_time = time.time()\n",
        "\n",
        "print(\"Hello World!\")\n",
        "\n",
        "# Comment single line\n",
        "\n",
        "print(time.time() - start_time, \"detik\")"
      ]
    },
    {
      "cell_type": "markdown",
      "source": [
        "### #2 Variabel"
      ],
      "metadata": {
        "id": "xXIOsyoQmWg4"
      }
    },
    {
      "cell_type": "code",
      "source": [
        "# tempat menyimpan data\n",
        "# assignment nilai / menaruh\n",
        "a = 10\n",
        "x = 5\n",
        "seribu = 1000\n",
        "\n",
        "print(\"Nilai a = \", a)\n",
        "print(\"Nilai x = \", x)\n",
        "print(\"Nilai seribu = \", seribu)\n",
        "\n",
        "# penamaan\n",
        "nilai_y = 15 \n",
        "juta10 = 10000000 # 10juta = ... ini ga boleh ges\n",
        "nilaiZ = 17.5\n",
        "\n",
        "a = 7\n",
        "print(\"Nilai a = \", a)\n",
        "\n",
        "# assignment indirect\n",
        "b = a\n",
        "print(\"Nilai b = \", b)\n"
      ],
      "metadata": {
        "colab": {
          "base_uri": "https://localhost:8080/"
        },
        "id": "AGW4284zmd9W",
        "outputId": "2c9460d6-dfb7-4b8f-bb5d-be8ee10702b8"
      },
      "execution_count": null,
      "outputs": [
        {
          "output_type": "stream",
          "name": "stdout",
          "text": [
            "Nilai a =  10\n",
            "Nilai x =  5\n",
            "Nilai seribu =  1000\n",
            "Nilai a =  7\n",
            "Nilai b =  7\n"
          ]
        }
      ]
    },
    {
      "cell_type": "markdown",
      "source": [
        "### #3 Tipe Data"
      ],
      "metadata": {
        "id": "djc92_oPpFAF"
      }
    },
    {
      "cell_type": "code",
      "source": [
        "# tipe data: Angka satuan (integer)\n",
        "data_integer = 1\n",
        "print(\"data : \", data_integer, \", bertipe : \", type(data_integer))\n",
        "\n",
        "# tipe data: Angka dengan koma (float)\n",
        "data_float = 1.5\n",
        "print(\"data : \", data_float, \", bertipe : \", type(data_float))\n",
        "\n",
        "# tipe data: Kumpulan karakter (string)\n",
        "data_string = \"Awas jatoh\"\n",
        "print(\"data : \", data_string, \", bertipe : \", type(data_string))\n",
        "\n",
        "# tipe data: Biner true/false (boolean)\n",
        "data_bool = True\n",
        "print(\"data : \", data_bool, \", bertipe : \", type(data_bool))\n",
        "\n",
        "## tipe data khusus\n",
        "# bilangan kompleks\n",
        "data_complex = complex(5,6)\n",
        "print(\"data : \", data_complex, \", bertipe : \", type(data_complex))\n",
        "\n",
        "# tipe data dari bahasa C\n",
        "from ctypes import c_double, c_char, c_long\n",
        "\n",
        "data_c_double = c_double(10.5)\n",
        "print(\"data : \", data_c_double, \", bertipe : \", type(data_c_double))"
      ],
      "metadata": {
        "colab": {
          "base_uri": "https://localhost:8080/"
        },
        "id": "exwQEUkrpHh2",
        "outputId": "03b2b880-c438-4f85-aa4a-0b9259ad3cd0"
      },
      "execution_count": null,
      "outputs": [
        {
          "output_type": "stream",
          "name": "stdout",
          "text": [
            "data :  1 , bertipe :  <class 'int'>\n",
            "data :  1.5 , bertipe :  <class 'float'>\n",
            "data :  Awas jatoh , bertipe :  <class 'str'>\n",
            "data :  True , bertipe :  <class 'bool'>\n",
            "data :  (5+6j) , bertipe :  <class 'complex'>\n",
            "data :  c_double(10.5) , bertipe :  <class 'ctypes.c_double'>\n"
          ]
        }
      ]
    },
    {
      "cell_type": "markdown",
      "source": [
        "### #4 Casting Tipe Data"
      ],
      "metadata": {
        "id": "MUQZFjw8sHlO"
      }
    },
    {
      "cell_type": "code",
      "source": [
        "# merubah satu tipe ke tipe lain\n",
        "\n",
        "data_int = 9\n",
        "print(\"data : \", data_int, \", bertipe : \", type(data_int))\n",
        "\n",
        "data_float = float(data_int)\n",
        "data_str = str(data_int)\n",
        "data_bool = bool(data_int)\n",
        "\n",
        "print(\"data : \", data_float, \", bertipe : \", type(data_float))\n",
        "print(\"data : \", data_str, \", bertipe : \", type(data_str))\n",
        "print(\"data : \", data_bool, \", bertipe : \", type(data_bool)) # 0 = false, != 0 true\n",
        "\n",
        "data_int = int(data_float)\n",
        "print(\"data : \", data_int, \", bertipe : \", type(data_int)) # dibulatkan kebawah"
      ],
      "metadata": {
        "colab": {
          "base_uri": "https://localhost:8080/"
        },
        "id": "wlXkUE9tsNBs",
        "outputId": "e8a1c7fe-b47b-4c72-a8ff-1d878acd2382"
      },
      "execution_count": null,
      "outputs": [
        {
          "output_type": "stream",
          "name": "stdout",
          "text": [
            "data :  9 , bertipe :  <class 'int'>\n",
            "data :  9.0 , bertipe :  <class 'float'>\n",
            "data :  9 , bertipe :  <class 'str'>\n",
            "data :  True , bertipe :  <class 'bool'>\n",
            "data :  9 , bertipe :  <class 'int'>\n"
          ]
        }
      ]
    },
    {
      "cell_type": "markdown",
      "source": [
        "### #5 Mengambil Input User"
      ],
      "metadata": {
        "id": "YytXoKMsuWEn"
      }
    },
    {
      "cell_type": "code",
      "source": [
        "data = input(\"Masukkan data: \")\n",
        "print(\"data = \", data, \", type = \", type(data))\n",
        "\n",
        "data = int(input(\"Masukkan data: \"))\n",
        "print(\"data = \", data, \", type = \", type(data))\n",
        "\n",
        "data = float(input(\"Masukkan data: \"))\n",
        "print(\"data = \", data, \", type = \", type(data))\n",
        "\n",
        "data = bool(int(input(\"Masukkan data: \")))\n",
        "print(\"data = \", data, \", type = \", type(data))"
      ],
      "metadata": {
        "colab": {
          "base_uri": "https://localhost:8080/"
        },
        "id": "PF_LbwBSuaUn",
        "outputId": "7ad87cf3-a512-43e8-db1e-b744a49ddc23"
      },
      "execution_count": null,
      "outputs": [
        {
          "output_type": "stream",
          "name": "stdout",
          "text": [
            "Masukkan data: 100\n",
            "data =  100 , type =  <class 'str'>\n",
            "Masukkan data: 2\n",
            "data =  2 , type =  <class 'int'>\n",
            "Masukkan data: 2.6\n",
            "data =  2.6 , type =  <class 'float'>\n",
            "Masukkan data: 0\n",
            "data =  False , type =  <class 'bool'>\n"
          ]
        }
      ]
    },
    {
      "cell_type": "markdown",
      "source": [
        "### #6 Aritmatika"
      ],
      "metadata": {
        "id": "6_vgZnMrxxoL"
      }
    },
    {
      "cell_type": "code",
      "source": [
        "a = 10\n",
        "b = 3\n",
        "\n",
        "hasil = a + b\n",
        "print(a, '+', b, '=', hasil)\n",
        "\n",
        "hasil = a - b\n",
        "print(a, '-', b, '=', hasil)\n",
        "\n",
        "hasil = a / b\n",
        "print(a, '/', b, '=', hasil)\n",
        "\n",
        "hasil = a * b\n",
        "print(a, '*', b, '=', hasil)\n",
        "\n",
        "# eksponen (pangkat)\n",
        "hasil = a ** b\n",
        "print(a, '**', b, '=', hasil)\n",
        "\n",
        "# modulus (sisa bagi)\n",
        "hasil = a % b\n",
        "print(a, '%', b, '=', hasil)\n",
        "\n",
        "# floor division (bagi tapi double, kebalikan modulus)\n",
        "hasil = a // b\n",
        "print(a, '//', b, '=', hasil)\n",
        "\n",
        "# prioritas operasi\n",
        "\"\"\"\n",
        "  1. ()\n",
        "  2. exponen **\n",
        "  3. perkalian dan teman-teman * / ** % //\n",
        "  4. pertambahan dan pengurangan\n",
        "\"\"\"\n",
        "x = 3\n",
        "y = 2\n",
        "z = 4\n",
        "\n",
        "hasil = x ** y * z + x / y - y % z // x\n",
        "print(\"Hasil = \", hasil)\n"
      ],
      "metadata": {
        "colab": {
          "base_uri": "https://localhost:8080/"
        },
        "id": "Mr4J8lwJx0tU",
        "outputId": "c4b06c05-4eb4-4a7b-add5-08e4d40676fd"
      },
      "execution_count": null,
      "outputs": [
        {
          "output_type": "stream",
          "name": "stdout",
          "text": [
            "10 + 3 = 13\n",
            "10 - 3 = 7\n",
            "10 / 3 = 3.3333333333333335\n",
            "10 * 3 = 30\n",
            "10 ** 3 = 1000\n",
            "10 % 3 = 1\n",
            "10 // 3 = 3\n",
            "Hasil =  37.5\n"
          ]
        }
      ]
    },
    {
      "cell_type": "markdown",
      "source": [
        "### #7 Perhitungan Sederhana"
      ],
      "metadata": {
        "id": "vhC8AMhCFvM4"
      }
    },
    {
      "cell_type": "code",
      "source": [
        "# Program konversi suhu\n",
        "\n",
        "print(\"PROGRAM KONVERSI TEMPERATUR\");\n",
        "\n",
        "celcius = float(input(\"Masukkan suhu dalam celcius : \"))\n",
        "print(\"Suhu adalah = \", celcius, \" celcius\")\n",
        "\n",
        "# Reamur\n",
        "reamur = (4/5) * celcius\n",
        "print(\"Suhu adalah = \", reamur, \" reamur\")\n",
        "\n",
        "# Fahrenheit\n",
        "fahrenheit = ((9/5) * celcius) + 32\n",
        "print(\"Suhu adalah = \", fahrenheit, \" fahrenheit\")\n",
        "\n",
        "# Kelvin\n",
        "kelvin = celcius + 273\n",
        "print(\"Suhu adalah = \", kelvin, \" kelvin\")"
      ],
      "metadata": {
        "colab": {
          "base_uri": "https://localhost:8080/"
        },
        "id": "9DVs_oCjFzZs",
        "outputId": "13fd9ab2-d420-4b23-cd54-0a8d9d545df2"
      },
      "execution_count": 1,
      "outputs": [
        {
          "output_type": "stream",
          "name": "stdout",
          "text": [
            "PROGRAM KONVERSI TEMPERATUR\n",
            "Masukkan suhu dalam celcius : 10\n",
            "Suhu adalah =  10.0  celcius\n",
            "Suhu adalah =  8.0  reamur\n",
            "Suhu adalah =  50.0  fahrenheit\n",
            "Suhu adalah =  283.0  kelvin\n"
          ]
        }
      ]
    },
    {
      "cell_type": "markdown",
      "source": [
        "### #8 Operasi Komparasi"
      ],
      "metadata": {
        "id": "IbF-_vh9IHJc"
      }
    },
    {
      "cell_type": "code",
      "source": [
        "# operasi komparasi\n",
        "\n",
        "# setiap hasil dari operasi komparasi adalah boolean\n",
        "\n",
        "# >,<,>=,<=,==,!=,is,is not\n",
        "\n",
        "a = 4\n",
        "b = 2\n",
        "\n",
        "# lebih besar dari >\n",
        "print('========== lebih besar dari (>)')\n",
        "hasil = a > 3\n",
        "print(a,'>',3,'=',hasil)\n",
        "hasil = b > 3\n",
        "print(b,'>',3,'=',hasil)\n",
        "hasil = b > 2\n",
        "print(b,'>',2,'=',hasil)\n",
        "\n",
        "# kurang dari <\n",
        "print('========== kurang dari (<)')\n",
        "hasil = a < 3\n",
        "print(a,'<',3,'=',hasil)\n",
        "hasil = b < 3\n",
        "print(b,'<',3,'=',hasil)\n",
        "hasil = b < 2\n",
        "print(b,'<',2,'=',hasil)\n",
        "\n",
        "# lebih dari sama dengan >=\n",
        "print('========== lebih dari sama dengan(>=)')\n",
        "hasil = a >= 3\n",
        "print(a,'>=',3,'=',hasil)\n",
        "hasil = b >= 3\n",
        "print(b,'>=',3,'=',hasil)\n",
        "hasil = b >= 2\n",
        "print(b,'>=',2,'=',hasil)\n",
        "\n",
        "# kurang dari sama dengan <=\n",
        "print('======== kurang dari sama dengan(<=)')\n",
        "hasil = a <= 3\n",
        "print(a,'<=',3,'=',hasil)\n",
        "hasil = b <= 3\n",
        "print(b,'<=',3,'=',hasil)\n",
        "hasil = b <= 2\n",
        "print(b,'<=',2,'=',hasil)\n",
        "\n",
        "# sama dengan (==)\n",
        "print('======== sama dengan(==)')\n",
        "hasil = a == 4\n",
        "print(a,'==',4,'=',hasil)\n",
        "hasil = b == 4\n",
        "print(b,'==',4,'=',hasil)\n",
        "\n",
        "# tidak sama dengan (!=)\n",
        "print('======== sama dengan(!=)')\n",
        "hasil = a != 4\n",
        "print(a,'!=',4,'=',hasil)\n",
        "hasil = b != 4\n",
        "print(b,'!=',4,'=',hasil)\n",
        "\n",
        "# 'is' sebagai komparasi object identity\n",
        "print('======== object identity(is)')\n",
        "x = 5 # ini adalah assignment membuat object\n",
        "y = 5\n",
        "print('nilai x =',x,',id = ',hex(id(x)))\n",
        "print('nilai y =',y,',id = ',hex(id(y)))\n",
        "hasil = x is y\n",
        "print('x is y =',hasil)\n",
        "\n",
        "x = 5 # ini adalah assignment membuat object\n",
        "y = 6\n",
        "print('nilai x =',x,',id = ',hex(id(x)))\n",
        "print('nilai y =',y,',id = ',hex(id(y)))\n",
        "hasil = x is y\n",
        "print('x is y =',hasil)\n",
        "\n",
        "print('======== object identity(is not)')\n",
        "x = 5 # ini adalah assignment membuat object\n",
        "y = 5\n",
        "print('nilai x =',x,',id = ',hex(id(x)))\n",
        "print('nilai y =',y,',id = ',hex(id(y)))\n",
        "hasil = x is not y\n",
        "print('x is y =',hasil)\n",
        "\n",
        "x = 5 # ini adalah assignment membuat object\n",
        "y = 6\n",
        "print('nilai x =',x,',id = ',hex(id(x)))\n",
        "print('nilai y =',y,',id = ',hex(id(y)))\n",
        "hasil = x is not y\n",
        "print('x is y =',hasil)"
      ],
      "metadata": {
        "colab": {
          "base_uri": "https://localhost:8080/"
        },
        "id": "jS9CO7pnIKxi",
        "outputId": "83b39f1f-576e-4021-e531-7a41f6f920de"
      },
      "execution_count": 2,
      "outputs": [
        {
          "output_type": "stream",
          "name": "stdout",
          "text": [
            "========== lebih besar dari (>)\n",
            "4 > 3 = True\n",
            "2 > 3 = False\n",
            "2 > 2 = False\n",
            "========== kurang dari (<)\n",
            "4 < 3 = False\n",
            "2 < 3 = True\n",
            "2 < 2 = False\n",
            "========== lebih dari sama dengan(>=)\n",
            "4 >= 3 = True\n",
            "2 >= 3 = False\n",
            "2 >= 2 = True\n",
            "======== kurang dari sama dengan(<=)\n",
            "4 <= 3 = False\n",
            "2 <= 3 = True\n",
            "2 <= 2 = True\n",
            "======== sama dengan(==)\n",
            "4 == 4 = True\n",
            "2 == 4 = False\n",
            "======== sama dengan(!=)\n",
            "4 != 4 = False\n",
            "2 != 4 = True\n",
            "======== object identity(is)\n",
            "nilai x = 5 ,id =  0xabc180\n",
            "nilai y = 5 ,id =  0xabc180\n",
            "x is y = True\n",
            "nilai x = 5 ,id =  0xabc180\n",
            "nilai y = 6 ,id =  0xabc1a0\n",
            "x is y = False\n",
            "======== object identity(is not)\n",
            "nilai x = 5 ,id =  0xabc180\n",
            "nilai y = 5 ,id =  0xabc180\n",
            "x is y = False\n",
            "nilai x = 5 ,id =  0xabc180\n",
            "nilai y = 6 ,id =  0xabc1a0\n",
            "x is y = True\n"
          ]
        }
      ]
    },
    {
      "cell_type": "markdown",
      "source": [
        "### #9 Operasi Logika Boolean"
      ],
      "metadata": {
        "id": "svxurIxgOUIr"
      }
    },
    {
      "cell_type": "code",
      "source": [
        "# operasi logika atau boolean\n",
        "\n",
        "# not, or, and, xor\n",
        "\n",
        "# NOT\n",
        "print('====NOT====')\n",
        "a = False\n",
        "c = not a\n",
        "print('data a =',a)\n",
        "print('-------------- NOT')\n",
        "print('data c =',c)\n",
        "\n",
        "# OR (jika salah satu true, maka hasilnya adalah true)\n",
        "print('====OR====')\n",
        "a = False\n",
        "b = False\n",
        "c = a or b\n",
        "print(a,'OR',b,'=',c)\n",
        "a = False\n",
        "b = True\n",
        "c = a or b\n",
        "print(a,'OR',b,' =',c)\n",
        "a = True\n",
        "b = False\n",
        "c = a or b\n",
        "print(a,' OR',b,'=',c)\n",
        "a = True\n",
        "b = True\n",
        "c = a or b\n",
        "print(a,' OR',b,' =',c)\n",
        "\n",
        "# AND (jika dua buah nilai true, maka hasil true)\n",
        "print('====AND====')\n",
        "a = False\n",
        "b = False\n",
        "c = a and b\n",
        "print(a,'AND',b,'=',c)\n",
        "a = False\n",
        "b = True\n",
        "c = a and b\n",
        "print(a,'AND',b,' =',c)\n",
        "a = True\n",
        "b = False\n",
        "c = a and b\n",
        "print(a,' AND',b,'=',c)\n",
        "a = True\n",
        "b = True\n",
        "c = a and b\n",
        "print(a,' AND',b,' =',c)\n",
        "\n",
        "# XOR (akan true jika salah satu true, sisanya false)\n",
        "print('====XOR====')\n",
        "a = False\n",
        "b = False\n",
        "c = a ^ b\n",
        "print(a,'XOR',b,'=',c)\n",
        "a = False\n",
        "b = True\n",
        "c = a ^ b\n",
        "print(a,'XOR',b,' =',c)\n",
        "a = True\n",
        "b = False\n",
        "c = a ^ b\n",
        "print(a,' XOR',b,'=',c)\n",
        "a = True\n",
        "b = True\n",
        "c = a ^ b\n",
        "print(a,' XOR',b,' =',c)"
      ],
      "metadata": {
        "colab": {
          "base_uri": "https://localhost:8080/"
        },
        "id": "EeVp62hMOfBB",
        "outputId": "45b662f8-8515-4aeb-9505-b20314aa030c"
      },
      "execution_count": 3,
      "outputs": [
        {
          "output_type": "stream",
          "name": "stdout",
          "text": [
            "====NOT====\n",
            "data a = False\n",
            "-------------- NOT\n",
            "data c = True\n",
            "====OR====\n",
            "False OR False = False\n",
            "False OR True  = True\n",
            "True  OR False = True\n",
            "True  OR True  = True\n",
            "====AND====\n",
            "False AND False = False\n",
            "False AND True  = False\n",
            "True  AND False = False\n",
            "True  AND True  = True\n",
            "====XOR====\n",
            "False XOR False = False\n",
            "False XOR True  = True\n",
            "True  XOR False = True\n",
            "True  XOR True  = False\n"
          ]
        }
      ]
    },
    {
      "cell_type": "markdown",
      "source": [
        "### #10 Latihan Komparasi dan Logika"
      ],
      "metadata": {
        "id": "uQ1CLWOoOidZ"
      }
    },
    {
      "cell_type": "code",
      "source": [
        "# episode latihan logika dan komparasi\n",
        "\n",
        "# membuat gabungan area rentang dari angka\n",
        "\n",
        "# ++++++3--------10+++++++\n",
        "\n",
        "inputUser = float(input(\"masukan angka yang bernilai\\nkurang dari 3 \\natau \\nlebih besar dari 10\\n:\"))\n",
        "\n",
        "# ++++++3-----------------\n",
        "# Memeriksa angka kurang dari 3\n",
        "isKurangDari = (inputUser < 3)\n",
        "print(\"Kurang dari 3 =\", isKurangDari)\n",
        "\n",
        "# ---------------10++++++++\n",
        "# Memeriksa angka lebih dari 10\n",
        "isLebihDari = (inputUser > 10)\n",
        "print(\"Lebih dari 10 =\", isLebihDari)\n",
        "\n",
        "# ++++++3--------10+++++++\n",
        "\n",
        "isCorrect = isKurangDari or isLebihDari\n",
        "print(\"angka yang anda masukan: \", isCorrect)\n",
        "\n",
        "\n",
        "# -----3++++++++10--------\n",
        "# kasus irisan\n",
        "print(\"\\n\",10*\"=\",\"\\n\")\n",
        "inputUser = float(input(\"masukan angka yang bernilai\\nlebih dari 3 \\ndan \\nkurang dari 10\\n:\"))\n",
        "\n",
        "# -----3++++++++++++++++++\n",
        "# lebih dari 3\n",
        "isLebihDari = inputUser > 3\n",
        "print(\"Lebih dari 3 = \",isLebihDari)\n",
        "\n",
        "# +++++++++++++++10-------\n",
        "# kurang dari 10\n",
        "isKurangDari = inputUser < 10\n",
        "print(\"Kurang dari 10 = \",isKurangDari)\n",
        "\n",
        "# -----3++++++++10--------\n",
        "isCorrect = isKurangDari and isLebihDari\n",
        "print(\"angka yang anda masukan: \", isCorrect)"
      ],
      "metadata": {
        "colab": {
          "base_uri": "https://localhost:8080/"
        },
        "id": "f90UcdMgOpBd",
        "outputId": "dfa35a86-e2b1-4888-abef-75a26d92d6a9"
      },
      "execution_count": 4,
      "outputs": [
        {
          "output_type": "stream",
          "name": "stdout",
          "text": [
            "masukan angka yang bernilai\n",
            "kurang dari 3 \n",
            "atau \n",
            "lebih besar dari 10\n",
            ":1\n",
            "Kurang dari 3 = True\n",
            "Lebih dari 10 = False\n",
            "angka yang anda masukan:  True\n",
            "\n",
            " ========== \n",
            "\n",
            "masukan angka yang bernilai\n",
            "lebih dari 3 \n",
            "dan \n",
            "kurang dari 10\n",
            ":8\n",
            "Lebih dari 3 =  True\n",
            "Kurang dari 10 =  True\n",
            "angka yang anda masukan:  True\n"
          ]
        }
      ]
    },
    {
      "cell_type": "markdown",
      "source": [
        "### #11 Operator Bitwise"
      ],
      "metadata": {
        "id": "HMcgAgSXO78T"
      }
    },
    {
      "cell_type": "code",
      "source": [
        "# episode operator bitwise, operasi biner, binary\n",
        "\n",
        "a = 9\n",
        "b = 5\n",
        "\n",
        "# bitwise OR (|)\n",
        "c = a | b\n",
        "print('\\n=========OR=========')\n",
        "print('nilai :',a,' , binary :',format(a,'08b'))\n",
        "print('nilai :',b,' , binary :',format(b,'08b'))\n",
        "print('----------------------------- (|)')\n",
        "print('nilai :',c,' , binary :',format(c,'08b'))\n",
        "\n",
        "# bitwise AND (&)\n",
        "c = a & b\n",
        "print('\\n=========AND========')\n",
        "print('nilai :',a,' , binary :',format(a,'08b'))\n",
        "print('nilai :',b,' , binary :',format(b,'08b'))\n",
        "print('----------------------------- (&)')\n",
        "print('nilai :',c,' , binary :',format(c,'08b'))\n",
        "\n",
        "# bitwise XOR (^)\n",
        "c = a ^ b\n",
        "print('\\n=========XOR========')\n",
        "print('nilai :',a,' , binary :',format(a,'08b'))\n",
        "print('nilai :',b,' , binary :',format(b,'08b'))\n",
        "print('----------------------------- (^)')\n",
        "print('nilai :',c,' , binary :',format(c,'08b'))\n",
        "\n",
        "# bitwise NOT (~)\n",
        "c = ~a\n",
        "print('\\n=========NOT========')\n",
        "print('nilai :',a,' , binary :',format(a,'08b'))\n",
        "print('----------------------------- (~)')\n",
        "print('nilai :',c,' , binary :',format(c,'08b'))\n",
        "print('----------------------------- (^)')\n",
        "d = 0b0000001001\n",
        "e = 0b1111111111\n",
        "print('nilai :',e^d,' , binary :',format(e^d,'08b'))\n",
        "\n",
        "# shifting\n",
        "\n",
        "# shift right (>>)\n",
        "c = a >> 2\n",
        "print('\\n=========>>=========')\n",
        "print('nilai :',a,' , binary :',format(a,'08b'))\n",
        "print('----------------------------- (>>)')\n",
        "print('nilai :',c,' , binary :',format(c,'08b'))\n",
        "\n",
        "# shift left (<<)\n",
        "c = a << 2\n",
        "print('\\n=========<<=========')\n",
        "print('nilai :',a,' , binary :',format(a,'08b'))\n",
        "print('----------------------------- (<<)')\n",
        "print('nilai :',c,' , binary :',format(c,'08b'))\n"
      ],
      "metadata": {
        "colab": {
          "base_uri": "https://localhost:8080/"
        },
        "id": "nqajUrZzPDIR",
        "outputId": "62cd86af-02ee-4e1e-ab59-cbd7cf45628c"
      },
      "execution_count": 5,
      "outputs": [
        {
          "output_type": "stream",
          "name": "stdout",
          "text": [
            "\n",
            "=========OR=========\n",
            "nilai : 9  , binary : 00001001\n",
            "nilai : 5  , binary : 00000101\n",
            "----------------------------- (|)\n",
            "nilai : 13  , binary : 00001101\n",
            "\n",
            "=========AND========\n",
            "nilai : 9  , binary : 00001001\n",
            "nilai : 5  , binary : 00000101\n",
            "----------------------------- (&)\n",
            "nilai : 1  , binary : 00000001\n",
            "\n",
            "=========XOR========\n",
            "nilai : 9  , binary : 00001001\n",
            "nilai : 5  , binary : 00000101\n",
            "----------------------------- (^)\n",
            "nilai : 12  , binary : 00001100\n",
            "\n",
            "=========NOT========\n",
            "nilai : 9  , binary : 00001001\n",
            "----------------------------- (~)\n",
            "nilai : -10  , binary : -0001010\n",
            "----------------------------- (^)\n",
            "nilai : 1014  , binary : 1111110110\n",
            "\n",
            "=========>>=========\n",
            "nilai : 9  , binary : 00001001\n",
            "----------------------------- (>>)\n",
            "nilai : 2  , binary : 00000010\n",
            "\n",
            "=========<<=========\n",
            "nilai : 9  , binary : 00001001\n",
            "----------------------------- (<<)\n",
            "nilai : 36  , binary : 00100100\n"
          ]
        }
      ]
    },
    {
      "cell_type": "markdown",
      "source": [
        "### #12 Operator Assignment"
      ],
      "metadata": {
        "id": "pX3lFd-TPIlm"
      }
    },
    {
      "cell_type": "code",
      "source": [
        "# operasi yang dapat dilakukan dengan penyingkatan\n",
        "# operasi ditambah dengan assignment\n",
        "\n",
        "a = 5 # adalah assignment\n",
        "print(\"nilai a =\",a)\n",
        "\n",
        "a += 1 # artinya adalah a = a + 1\n",
        "print(\"nilai a += 1, nilai a menjadi\",a)\n",
        "\n",
        "a -= 2 # artinya adalah a = a - 2\n",
        "print(\"nilai a -= 2, nilai a menjadi\",a)\n",
        "\n",
        "a *= 5 # artinya adalah a = a * 5\n",
        "print(\"nilai a *= 5, nilai a menjadi\",a)\n",
        "\n",
        "a /= 2 # artinya adalah a = a / 2\n",
        "print(\"nilai a /= 2, nilai a menjadi\",a)\n",
        "\n",
        "b = 10\n",
        "print(\"\\nnilai b =\",b)\n",
        "\n",
        "# modulus dan floor division\n",
        "b %= 3\n",
        "print(\"nilai b %= 3, nilai b menjadi\",b)\n",
        "\n",
        "b = 10\n",
        "print(\"\\nnilai b =\",b)\n",
        "\n",
        "b //= 3\n",
        "print(\"nilai b //= 3, nilai b menjadi\",b)\n",
        "\n",
        "# pangkat atau eksponen\n",
        "a = 5\n",
        "print(\"\\nnilai a =\",a)\n",
        "a **= 3\n",
        "print(\"nilai a **= 3, nilai a menjadi\",a)\n",
        "\n",
        "# operasi bitwise\n",
        "# OR\n",
        "c = True\n",
        "print(\"\\nnilai c =\",c)\n",
        "c |= False\n",
        "print(\"nilai c |= False, nilai c menjadi\",c)\n",
        "c = False\n",
        "print(\"nilai c =\",c)\n",
        "c |= False\n",
        "print(\"nilai c |= False, nilai c menjadi\",c)\n",
        "\n",
        "# AND\n",
        "c = True\n",
        "print(\"\\nnilai c =\",c)\n",
        "c &= False\n",
        "print(\"nilai c &= False, nilai c menjadi\",c)\n",
        "c = True\n",
        "print(\"nilai c =\",c)\n",
        "c &= True\n",
        "print(\"nilai c &= True, nilai c menjadi\",c)\n",
        "\n",
        "# XOR\n",
        "c = True\n",
        "print(\"\\nnilai c =\",c)\n",
        "c ^= False\n",
        "print(\"nilai c ^= False, nilai c menjadi\",c)\n",
        "c = True\n",
        "print(\"nilai c =\",c)\n",
        "c ^= True\n",
        "print(\"nilai c ^= True, nilai c menjadi\",c)\n",
        "\n",
        "# geser geser\n",
        "d = 0b0100\n",
        "print(\"\\nnilai d =\",format(d,'04b'))\n",
        "d >>= 2\n",
        "print(\"nilai d >>= 2, nilai d menjadi\",format(d,'04b'))\n",
        "d <<= 1\n",
        "print(\"nilai d <<= 1, nilai d menjadi\",format(d,'04b'))"
      ],
      "metadata": {
        "colab": {
          "base_uri": "https://localhost:8080/"
        },
        "id": "2JQQXZVuPPCu",
        "outputId": "9928c178-da47-4a96-c142-f8336d0411bf"
      },
      "execution_count": 6,
      "outputs": [
        {
          "output_type": "stream",
          "name": "stdout",
          "text": [
            "nilai a = 5\n",
            "nilai a += 1, nilai a menjadi 6\n",
            "nilai a -= 2, nilai a menjadi 4\n",
            "nilai a *= 5, nilai a menjadi 20\n",
            "nilai a /= 2, nilai a menjadi 10.0\n",
            "\n",
            "nilai b = 10\n",
            "nilai b %= 3, nilai b menjadi 1\n",
            "\n",
            "nilai b = 10\n",
            "nilai b //= 3, nilai b menjadi 3\n",
            "\n",
            "nilai a = 5\n",
            "nilai a **= 3, nilai a menjadi 125\n",
            "\n",
            "nilai c = True\n",
            "nilai c |= False, nilai c menjadi True\n",
            "nilai c = False\n",
            "nilai c |= False, nilai c menjadi False\n",
            "\n",
            "nilai c = True\n",
            "nilai c &= False, nilai c menjadi False\n",
            "nilai c = True\n",
            "nilai c &= True, nilai c menjadi True\n",
            "\n",
            "nilai c = True\n",
            "nilai c ^= False, nilai c menjadi True\n",
            "nilai c = True\n",
            "nilai c ^= True, nilai c menjadi False\n",
            "\n",
            "nilai d = 0100\n",
            "nilai d >>= 2, nilai d menjadi 0001\n",
            "nilai d <<= 1, nilai d menjadi 0010\n"
          ]
        }
      ]
    },
    {
      "cell_type": "markdown",
      "source": [
        "### #13 Pengenalan String"
      ],
      "metadata": {
        "id": "yRWsgNs0PSlq"
      }
    },
    {
      "cell_type": "code",
      "source": [
        "data = \"ini adalah string\"\n",
        "print(data)\n",
        "print(type(data))\n",
        "\n",
        "# 1. cara membuat string\n",
        "\n",
        "'''\n",
        "    1. dengan menggunakan single quote '...'\n",
        "    2. dengan menggunakan double quote \"...\"\n",
        "'''\n",
        "\n",
        "data = 'Menggunakan single quote'\n",
        "print(data)\n",
        "\n",
        "data = \"Menggunakan double quote\"\n",
        "print(data)\n",
        "\n",
        "print('\"Halo, apa kabar?\"')\n",
        "print(\"'Halo, apa kabar?'\")\n",
        "print(\"ini adalah hari jum'at\")\n",
        "\n",
        "# 2. Menggunakan tanda \\\n",
        "\n",
        "# membuat tanda ' menjadi string\n",
        "print('mari shalat jum\\'at')\n",
        "print('g\\'day, isn\\'t it?')\n",
        "\n",
        "# backlash\n",
        "print(\"C:\\\\user\\\\Ucup\")\n",
        "\n",
        "# tab\n",
        "print(\"ucup\\t\\t\\totong, semakin jauhan\")\n",
        "\n",
        "# backspace\n",
        "print(\"ucup \\botong, jadi deketan\")\n",
        "\n",
        "# newline\n",
        "print(\"baris pertama.\\nbaris kedua.\") # LF -> line feed -> unix, macos, linux\n",
        "print(\"baris pertama.\\rbaris kedua.\") # CR -> carriage return -> commodore, acorn, lisp \n",
        "print(\"baris pertama.\\r\\nbaris kedua.\") # CRLF -> line feed carriage return -> dipakai oleh windows\n",
        "\n",
        "# 3. String literal atau raw\n",
        "\n",
        "# hati-hati\n",
        "print('C:\\new folder') # akan salah pathnya\n",
        "\n",
        "# menggunakan raw string\n",
        "print(r'C:\\new folder')\n",
        "\n",
        "# multiline literal string\n",
        "print(\"\"\"\n",
        "Nama : Ucup\n",
        "Kelas : 3 SD   \n",
        "\"\"\")\n",
        "\n",
        "# multiline literal string dan RAW\n",
        "print(r\"\"\"\n",
        "Nama : Ucup\n",
        "Kelas : 3 SD\\new normal \n",
        "Website : www.ucup.com/newID\n",
        "\"\"\")"
      ],
      "metadata": {
        "colab": {
          "base_uri": "https://localhost:8080/"
        },
        "id": "C83uyH7BPjjQ",
        "outputId": "371ad30f-655a-4f8c-ba6f-05b623c456e2"
      },
      "execution_count": 7,
      "outputs": [
        {
          "output_type": "stream",
          "name": "stdout",
          "text": [
            "ini adalah string\n",
            "<class 'str'>\n",
            "Menggunakan single quote\n",
            "Menggunakan double quote\n",
            "\"Halo, apa kabar?\"\n",
            "'Halo, apa kabar?'\n",
            "ini adalah hari jum'at\n",
            "mari shalat jum'at\n",
            "g'day, isn't it?\n",
            "C:\\user\\Ucup\n",
            "ucup\t\t\totong, semakin jauhan\n",
            "ucup \botong, jadi deketan\n",
            "baris pertama.\n",
            "baris kedua.\n",
            "baris pertama.\rbaris kedua.\n",
            "baris pertama.\r\n",
            "baris kedua.\n",
            "C:\n",
            "ew folder\n",
            "C:\\new folder\n",
            "\n",
            "Nama : Ucup\n",
            "Kelas : 3 SD   \n",
            "\n",
            "\n",
            "Nama : Ucup\n",
            "Kelas : 3 SD\\new normal \n",
            "Website : www.ucup.com/newID\n",
            "\n"
          ]
        }
      ]
    },
    {
      "cell_type": "markdown",
      "source": [
        "### #14 Operasi dan Manipulasi String (Part 1)"
      ],
      "metadata": {
        "id": "mOmGLLgfP8Ii"
      }
    },
    {
      "cell_type": "code",
      "source": [
        "# Operasi dan Memanipulasi String\n",
        "\n",
        "# 1. Menyambung String (concatenate)\n",
        "nama_pertama = \"Ucup\"\n",
        "nama_tengah = \"D\"\n",
        "nama_akhir = \"Fame\"\n",
        "\n",
        "nama_lengkap = nama_pertama + nama_tengah + nama_akhir\n",
        "print(nama_lengkap)\n",
        "\n",
        "nama_lengkap = nama_pertama + \" \" + nama_tengah + \"'\" + nama_akhir\n",
        "print(nama_lengkap)\n",
        "\n",
        "# 2. Menghitung panjang string\n",
        "panjang = len(nama_lengkap)\n",
        "print(\"panjang \" + nama_lengkap + \" adalah \" + str(panjang))\n",
        "\n",
        "# 3. operator untuk string\n",
        "\n",
        "# cek apakah ada komponen pada sebuah string\n",
        "d = \"d\"\n",
        "status = d in nama_lengkap\n",
        "print(\"apakah \" + d + \" ada di \" + nama_lengkap + \", \" + str(status))\n",
        "\n",
        "D = \"D\"\n",
        "status = D in nama_lengkap\n",
        "print(\"apakah \" + D + \" ada di \" + nama_lengkap + \", \" + str(status))\n",
        "\n",
        "x = \"x\"\n",
        "status = x not in nama_lengkap\n",
        "print(\"apakah \" + x + \" tidak ada di \" + nama_lengkap + \", \" + str(status))\n",
        "\n",
        "# mengulang string\n",
        "print(\"wk\"*100)\n",
        "print(100*\"wk\")\n",
        "\n",
        "# indexing\n",
        "print(\"index ke-0 : \" + nama_lengkap[0]) # dimulai dari 0\n",
        "print(\"index ke-6 : \" + nama_lengkap[6]) # index bebas\n",
        "print(\"index ke-(-1) : \" + nama_lengkap[-1]) # indexing dari dibelakang\n",
        "print(\"index ke-[6,8) : \" + nama_lengkap[6:8]) # dimulai dari index 6 sampai sebelum 8\n",
        "print(\"index ke-[0,2,4,6,8] : \" + nama_lengkap[0:10:2]) # diambil index 0,2,4,6,8\n",
        "\n",
        "# item paling kecil\n",
        "print(\"nilai terkecil : \" + min(nama_lengkap))\n",
        "# item paling besar\n",
        "print(\"nilai terbesar : \" + max(nama_lengkap))\n",
        "\n",
        "ascii_code = ord(\" \")\n",
        "print(\"ASCII number dari spasi : \" + str(ascii_code))\n",
        "data = 117\n",
        "print(\"Character dari ascii code 117 : \" + chr(data))\n",
        "\n",
        "# 4. operator dalam bentuk method\n",
        "\n",
        "data = \"otong surotong pararotong\"\n",
        "jumlah = data.count(\"o\")\n",
        "print(\"jumlah o di \" + data + \" : \" + str(jumlah))"
      ],
      "metadata": {
        "colab": {
          "base_uri": "https://localhost:8080/"
        },
        "id": "pEfUdDwoP_BK",
        "outputId": "f656fe83-a2c6-4438-937b-637c1fe0c91c"
      },
      "execution_count": 8,
      "outputs": [
        {
          "output_type": "stream",
          "name": "stdout",
          "text": [
            "UcupDFame\n",
            "Ucup D'Fame\n",
            "panjang Ucup D'Fame adalah 11\n",
            "apakah d ada di Ucup D'Fame, False\n",
            "apakah D ada di Ucup D'Fame, True\n",
            "apakah x tidak ada di Ucup D'Fame, True\n",
            "wkwkwkwkwkwkwkwkwkwkwkwkwkwkwkwkwkwkwkwkwkwkwkwkwkwkwkwkwkwkwkwkwkwkwkwkwkwkwkwkwkwkwkwkwkwkwkwkwkwkwkwkwkwkwkwkwkwkwkwkwkwkwkwkwkwkwkwkwkwkwkwkwkwkwkwkwkwkwkwkwkwkwkwkwkwkwkwkwkwkwkwkwkwkwkwkwkwkwkwk\n",
            "wkwkwkwkwkwkwkwkwkwkwkwkwkwkwkwkwkwkwkwkwkwkwkwkwkwkwkwkwkwkwkwkwkwkwkwkwkwkwkwkwkwkwkwkwkwkwkwkwkwkwkwkwkwkwkwkwkwkwkwkwkwkwkwkwkwkwkwkwkwkwkwkwkwkwkwkwkwkwkwkwkwkwkwkwkwkwkwkwkwkwkwkwkwkwkwkwkwkwkwk\n",
            "index ke-0 : U\n",
            "index ke-6 : '\n",
            "index ke-(-1) : e\n",
            "index ke-[6,8) : 'F\n",
            "index ke-[0,2,4,6,8] : Uu 'a\n",
            "nilai terkecil :  \n",
            "nilai terbesar : u\n",
            "ASCII number dari spasi : 32\n",
            "Character dari ascii code 117 : u\n",
            "jumlah o di otong surotong pararotong : 6\n"
          ]
        }
      ]
    },
    {
      "cell_type": "markdown",
      "source": [
        "### #15 Operasi dan Manipulasi String (Part 2)"
      ],
      "metadata": {
        "id": "Vhzb27LDQEN8"
      }
    },
    {
      "cell_type": "code",
      "source": [
        "# operator dalam bentuk methods\n",
        "\n",
        "## merubah case pada string\n",
        "\n",
        "# merubah semua ke upper case\n",
        "salam = \"bro!\"\n",
        "print(\"normal \" + salam)\n",
        "salam = salam.upper()\n",
        "print(\"upper \" + salam)\n",
        "\n",
        "# merubah semua ke lower case\n",
        "alay = \"aKu KeCe AbieeZZZ\"\n",
        "print(\"normal \" + alay)\n",
        "alay = alay.lower()\n",
        "print(\"lower \" + alay)\n",
        "\n",
        "## method is, untuk pengecekan\n",
        "\n",
        "# contoh isupper()\n",
        "salam = \"SIST\"\n",
        "apakah_upper = salam.isupper()\n",
        "print(salam + \" is upper? \" + str(apakah_upper))\n",
        "salam = salam.lower()\n",
        "apakah_upper = salam.isupper()\n",
        "print(salam + \" is upper? \" + str(apakah_upper))\n",
        "\n",
        "# islower() <- untuk pengecekan apakah lower case semua\n",
        "# isalpha() <- untuk mengecek apakah huruf semua\n",
        "# isalnum() <- apakah huruf dan angka\n",
        "# isdecimal() <- apakah numeric\n",
        "# isspace() <- apakah isinya spasi, tab dan enter (newline \\n)\n",
        "# istitle() <- huruf pertama setiap kata upper case\n",
        "\n",
        "judul = \"It Is Okay To Not Be Orkay\"\n",
        "cek_judul = judul.istitle()\n",
        "print(judul + \" is title? \" + str(cek_judul))\n",
        "\n",
        "# startwith() dan endwith() <-- keren\n",
        "\n",
        "cek_start = \"Sangjangnim Oppa\".startswith(\"Sangjangnim\")\n",
        "print(\"start \" + str(cek_start))\n",
        "cek_end = \"Sangjangnim Oppak\".endswith(\"Oppak\")\n",
        "print(\"end \" + str(cek_end))\n",
        "\n",
        "# join() dan split() <-- buat orang males\n",
        "\n",
        "pisah = ['aku','sayang','kamu']\n",
        "gabungan = ' ehm '.join(pisah)\n",
        "print(pisah)\n",
        "print(gabungan)\n",
        "\n",
        "gabungan = \"naik vespa keliling kota\"\n",
        "pisah = gabungan.split()\n",
        "print(gabungan)\n",
        "print(pisah)\n",
        "\n",
        "gabungan = \"naikehmvespaehmkelilingehmkota\"\n",
        "pisah = gabungan.split(\"ehm\")\n",
        "print(gabungan)\n",
        "print(pisah)\n",
        "\n",
        "# alokasi karakter\n",
        "print(\"'kiri      '\")\n",
        "\n",
        "kanan = \"kanan\".rjust(20) # rata kanan dengan 20 karakter\n",
        "print(\"'\" + kanan + \"'\")\n",
        "\n",
        "kiri = \"kiri\".ljust(20) # rata kiri dengan 20 karakter\n",
        "print(\"'\" + kiri + \"'\")\n",
        "\n",
        "tengah =\"tengah\".center(20) # rata tengah dengan 20 karakter\n",
        "print(\"'\" + tengah + \"'\")\n",
        "\n",
        "tengah =\"tengah\".center(20,'-') # rata tengah dengan 20 karakter\n",
        "print(\"'\" + tengah + \"'\")\n",
        "\n",
        "# kebalikan dari alokasi karakter\n",
        "kanan = kanan.strip()\n",
        "print(\"'\" + kanan + \"'\")\n",
        "tengah = tengah.strip('-')\n",
        "print(\"'\" + tengah + \"'\")"
      ],
      "metadata": {
        "colab": {
          "base_uri": "https://localhost:8080/"
        },
        "id": "5yudy4cnQQ-p",
        "outputId": "f24759c8-9f71-4de4-fa24-42379ddded1c"
      },
      "execution_count": 9,
      "outputs": [
        {
          "output_type": "stream",
          "name": "stdout",
          "text": [
            "normal bro!\n",
            "upper BRO!\n",
            "normal aKu KeCe AbieeZZZ\n",
            "lower aku kece abieezzz\n",
            "SIST is upper? True\n",
            "sist is upper? False\n",
            "It Is Okay To Not Be Orkay is title? True\n",
            "start True\n",
            "end True\n",
            "['aku', 'sayang', 'kamu']\n",
            "aku ehm sayang ehm kamu\n",
            "naik vespa keliling kota\n",
            "['naik', 'vespa', 'keliling', 'kota']\n",
            "naikehmvespaehmkelilingehmkota\n",
            "['naik', 'vespa', 'keliling', 'kota']\n",
            "'kiri      '\n",
            "'               kanan'\n",
            "'kiri                '\n",
            "'       tengah       '\n",
            "'-------tengah-------'\n",
            "'kanan'\n",
            "'tengah'\n"
          ]
        }
      ]
    },
    {
      "cell_type": "markdown",
      "source": [
        "### #16 Format String"
      ],
      "metadata": {
        "id": "ZVkzesfoQaeC"
      }
    },
    {
      "cell_type": "code",
      "source": [
        "# format string\n",
        "\n",
        "# contoh generic\n",
        "# string\n",
        "nama = \"ucup\"\n",
        "format_str = f\"hello {nama}\"\n",
        "print(format_str)\n",
        "\n",
        "# boolean\n",
        "boolean = False\n",
        "format_str = f\"boolean = {boolean}\"\n",
        "print(format_str)\n",
        "\n",
        "# angka\n",
        "angka = 2005.5\n",
        "format_str = f\"angka = {angka}\"\n",
        "print(format_str)\n",
        "\n",
        "# bilangan bulat\n",
        "angka = 15\n",
        "format_str = f\"bilangan bulat = {angka:d}\"\n",
        "print(format_str)\n",
        "\n",
        "# bilangan dengan ordo ribuan\n",
        "angka = 2000000\n",
        "format_str = f\"jutaan = {angka:,}\"\n",
        "print(format_str)\n",
        "\n",
        "# bilangan desimal\n",
        "angka = 2005.54321\n",
        "format_str = f\"desimal = {angka:.3f}\"\n",
        "print(format_str)\n",
        "\n",
        "# menampilkan leading zero\n",
        "angka = 2005.54321\n",
        "format_str = f\"desimal = {angka:010.3f}\"\n",
        "print(format_str)\n",
        "\n",
        "# menampilkan tanda + atau -\n",
        "angka_minus = -10\n",
        "angka_plus = +10.1234\n",
        "format_minus = f\"minus = {angka_minus:+d}\"\n",
        "format_plus = f\"plus = {angka_plus:+.2f}\"\n",
        "\n",
        "print(format_minus)\n",
        "print(format_plus)\n",
        "\n",
        "# memformat persen\n",
        "persentase = 0.045\n",
        "format_persen = f\"persen = {persentase:.2%}\"\n",
        "\n",
        "print(format_persen)\n",
        "\n",
        "# melakukan operasi aritmatika di dalam placeholder\n",
        "harga = 10000\n",
        "jumlah = 5\n",
        "\n",
        "format_string = f\"harga total = Rp. {harga*jumlah:,}\"\n",
        "print(format_string)\n",
        "\n",
        "# format angka lain (binary, octal, hexadecimal)\n",
        "\n",
        "angka = 255\n",
        "format_binary = f\"binary = {bin(angka)}\"\n",
        "format_octal = f\"octal = {oct(angka)}\"\n",
        "format_hex = f\"hex = {hex(angka)}\"\n",
        "\n",
        "print(format_binary)\n",
        "print(format_octal)\n",
        "print(format_hex)"
      ],
      "metadata": {
        "colab": {
          "base_uri": "https://localhost:8080/"
        },
        "id": "ozSFGD8vQe1D",
        "outputId": "9ea223f3-6342-458f-b69b-e9a92a02e9bf"
      },
      "execution_count": 10,
      "outputs": [
        {
          "output_type": "stream",
          "name": "stdout",
          "text": [
            "hello ucup\n",
            "boolean = False\n",
            "angka = 2005.5\n",
            "bilangan bulat = 15\n",
            "jutaan = 2,000,000\n",
            "desimal = 2005.543\n",
            "desimal = 002005.543\n",
            "minus = -10\n",
            "plus = +10.12\n",
            "persen = 4.50%\n",
            "harga total = Rp. 50,000\n",
            "binary = 0b11111111\n",
            "octal = 0o377\n",
            "hex = 0xff\n"
          ]
        }
      ]
    },
    {
      "cell_type": "markdown",
      "source": [
        "### #17 Format String Width and Alignment"
      ],
      "metadata": {
        "id": "dOEhOFrIQyk7"
      }
    },
    {
      "cell_type": "code",
      "source": [
        "# Width and Multiline\n",
        "\n",
        "# Data\n",
        "\n",
        "data_nama = \"Ucup Surucup\"\n",
        "data_umur = 17\n",
        "data_tinggi = 150.1\n",
        "data_nomor_sepatu = 44\n",
        "\n",
        "# string standard\n",
        "data_string = f\"nama = {data_nama}, umur = {data_umur}, tinggi = {data_tinggi}, sepatu = {data_nomor_sepatu}\"\n",
        "print(5*\"=\"+\"Data String\"+5*\"=\")\n",
        "print(data_string)\n",
        "\n",
        "# String multiline (dengan menggunakan enter, newline, \\n)\n",
        "data_string = f\"nama = {data_nama}, \\numur = {data_umur}, \\ntinggi = {data_tinggi}, \\nsepatu = {data_nomor_sepatu}\"\n",
        "print(\"\\n\"+5*\"=\"+\"Data String\"+5*\"=\")\n",
        "print(data_string)\n",
        "\n",
        "# String multiline (kutip triplets)\n",
        "data_string = f\"\"\"nama = {data_nama}\n",
        "umur = {data_umur}\n",
        "tinggi = {data_tinggi}\n",
        "sepatu = {data_nomor_sepatu}\n",
        "\"\"\"\n",
        "print(\"\\n\"+5*\"=\"+\"Data String\"+5*\"=\")\n",
        "print(data_string)\n",
        "\n",
        "# mengatur lebar\n",
        "data_nama = \"Ucup Surucup\"\n",
        "data_tinggi = 105.17\n",
        "data_string = f\"\"\"\n",
        "nama   = {data_nama:>5}\n",
        "umur   = {data_umur:>5}\n",
        "tinggi = {data_tinggi:>5}\n",
        "sepatu = {data_nomor_sepatu:>5}\n",
        "\"\"\"\n",
        "print(\"\\n\"+5*\"=\"+\"Data String\"+5*\"=\")\n",
        "print(data_string)"
      ],
      "metadata": {
        "colab": {
          "base_uri": "https://localhost:8080/"
        },
        "id": "2dvxl_pqQ1M9",
        "outputId": "cdbd487b-6be7-44b6-a974-b6325eec8e61"
      },
      "execution_count": 11,
      "outputs": [
        {
          "output_type": "stream",
          "name": "stdout",
          "text": [
            "=====Data String=====\n",
            "nama = Ucup Surucup, umur = 17, tinggi = 150.1, sepatu = 44\n",
            "\n",
            "=====Data String=====\n",
            "nama = Ucup Surucup, \n",
            "umur = 17, \n",
            "tinggi = 150.1, \n",
            "sepatu = 44\n",
            "\n",
            "=====Data String=====\n",
            "nama = Ucup Surucup\n",
            "umur = 17\n",
            "tinggi = 150.1\n",
            "sepatu = 44\n",
            "\n",
            "\n",
            "=====Data String=====\n",
            "\n",
            "nama   = Ucup Surucup\n",
            "umur   =    17\n",
            "tinggi = 105.17\n",
            "sepatu =    44\n",
            "\n"
          ]
        }
      ]
    },
    {
      "cell_type": "markdown",
      "source": [
        "### #18 Date and Time (Latihan)"
      ],
      "metadata": {
        "id": "eE_j8cOCQ38s"
      }
    },
    {
      "cell_type": "code",
      "source": [
        "# Date and time (latihan)\n",
        "\n",
        "import datetime as dt\n",
        "\n",
        "print(\"Silahkan masukan tanggal, \\nbulan dan tahun lahir anda \\n\")\n",
        "tanggal = int(input(\"Tanggal \\t: \"))\n",
        "bulan = int(input(\"Bulan \\t\\t: \"))\n",
        "tahun = int(input(\"Tahun \\t\\t: \"))\n",
        "\n",
        "tanggal_lahir = dt.date(tahun,bulan,tanggal)\n",
        "print(f\"Tanggal lahir anda adalah : {tanggal_lahir}\")\n",
        "\n",
        "hari_ini = dt.date.today()\n",
        "print(f\"Hari ini tanggal: {hari_ini}\")\n",
        "umur_hari = hari_ini - tanggal_lahir\n",
        "umur_tahun = umur_hari.days // 365\n",
        "umur_bulan_sisa = (umur_hari.days % 365) // 30\n",
        "\n",
        "print(f\"Hari nya adalah : {tanggal_lahir:%A}\")\n",
        "print(f\"Umur anda adalah: {umur_tahun} tahun, {umur_bulan_sisa} bulan\")"
      ],
      "metadata": {
        "colab": {
          "base_uri": "https://localhost:8080/"
        },
        "id": "qA1uWrEwQ_YZ",
        "outputId": "89965ca1-7ca2-493f-fb04-f2cbb4cd5251"
      },
      "execution_count": 13,
      "outputs": [
        {
          "output_type": "stream",
          "name": "stdout",
          "text": [
            "Silahkan masukan tanggal, \n",
            "bulan dan tahun lahir anda \n",
            "\n",
            "Tanggal \t: 28\n",
            "Bulan \t\t: 12\n",
            "Tahun \t\t: 1991\n",
            "Tanggal lahir anda adalah : 1991-12-28\n",
            "Hari ini tanggal: 2022-09-08\n",
            "Hari nya adalah : Saturday\n",
            "Umur anda adalah: 30 tahun, 8 bulan\n"
          ]
        }
      ]
    }
  ]
}