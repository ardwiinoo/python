{
  "nbformat": 4,
  "nbformat_minor": 0,
  "metadata": {
    "colab": {
      "provenance": [],
      "collapsed_sections": [],
      "authorship_tag": "ABX9TyMad+4mKSZaKBVcyf1u9rfS",
      "include_colab_link": true
    },
    "kernelspec": {
      "name": "python3",
      "display_name": "Python 3"
    },
    "language_info": {
      "name": "python"
    }
  },
  "cells": [
    {
      "cell_type": "markdown",
      "metadata": {
        "id": "view-in-github",
        "colab_type": "text"
      },
      "source": [
        "<a href=\"https://colab.research.google.com/github/ardwiinoo/python/blob/main/basic/basic_python.ipynb\" target=\"_parent\"><img src=\"https://colab.research.google.com/assets/colab-badge.svg\" alt=\"Open In Colab\"/></a>"
      ]
    },
    {
      "cell_type": "markdown",
      "source": [
        "### #1 Hello World"
      ],
      "metadata": {
        "id": "z3t77mOckHJF"
      }
    },
    {
      "cell_type": "code",
      "execution_count": null,
      "metadata": {
        "colab": {
          "base_uri": "https://localhost:8080/"
        },
        "id": "IChHG-Uldfg4",
        "outputId": "85189cf5-13ee-4798-c73b-d8263671c043"
      },
      "outputs": [
        {
          "output_type": "stream",
          "name": "stdout",
          "text": [
            "Hello World!\n",
            "0.001739501953125 detik\n"
          ]
        }
      ],
      "source": [
        "import time\n",
        "start_time = time.time()\n",
        "\n",
        "print(\"Hello World!\")\n",
        "\n",
        "# Comment single line\n",
        "\n",
        "print(time.time() - start_time, \"detik\")"
      ]
    },
    {
      "cell_type": "markdown",
      "source": [
        "### #2 Variabel"
      ],
      "metadata": {
        "id": "xXIOsyoQmWg4"
      }
    },
    {
      "cell_type": "code",
      "source": [
        "# tempat menyimpan data\n",
        "# assignment nilai / menaruh\n",
        "a = 10\n",
        "x = 5\n",
        "seribu = 1000\n",
        "\n",
        "print(\"Nilai a = \", a)\n",
        "print(\"Nilai x = \", x)\n",
        "print(\"Nilai seribu = \", seribu)\n",
        "\n",
        "# penamaan\n",
        "nilai_y = 15 \n",
        "juta10 = 10000000 # 10juta = ... ini ga boleh ges\n",
        "nilaiZ = 17.5\n",
        "\n",
        "a = 7\n",
        "print(\"Nilai a = \", a)\n",
        "\n",
        "# assignment indirect\n",
        "b = a\n",
        "print(\"Nilai b = \", b)\n"
      ],
      "metadata": {
        "colab": {
          "base_uri": "https://localhost:8080/"
        },
        "id": "AGW4284zmd9W",
        "outputId": "2c9460d6-dfb7-4b8f-bb5d-be8ee10702b8"
      },
      "execution_count": null,
      "outputs": [
        {
          "output_type": "stream",
          "name": "stdout",
          "text": [
            "Nilai a =  10\n",
            "Nilai x =  5\n",
            "Nilai seribu =  1000\n",
            "Nilai a =  7\n",
            "Nilai b =  7\n"
          ]
        }
      ]
    },
    {
      "cell_type": "markdown",
      "source": [
        "### #3 Tipe Data"
      ],
      "metadata": {
        "id": "djc92_oPpFAF"
      }
    },
    {
      "cell_type": "code",
      "source": [
        "# tipe data: Angka satuan (integer)\n",
        "data_integer = 1\n",
        "print(\"data : \", data_integer, \", bertipe : \", type(data_integer))\n",
        "\n",
        "# tipe data: Angka dengan koma (float)\n",
        "data_float = 1.5\n",
        "print(\"data : \", data_float, \", bertipe : \", type(data_float))\n",
        "\n",
        "# tipe data: Kumpulan karakter (string)\n",
        "data_string = \"Awas jatoh\"\n",
        "print(\"data : \", data_string, \", bertipe : \", type(data_string))\n",
        "\n",
        "# tipe data: Biner true/false (boolean)\n",
        "data_bool = True\n",
        "print(\"data : \", data_bool, \", bertipe : \", type(data_bool))\n",
        "\n",
        "## tipe data khusus\n",
        "# bilangan kompleks\n",
        "data_complex = complex(5,6)\n",
        "print(\"data : \", data_complex, \", bertipe : \", type(data_complex))\n",
        "\n",
        "# tipe data dari bahasa C\n",
        "from ctypes import c_double, c_char, c_long\n",
        "\n",
        "data_c_double = c_double(10.5)\n",
        "print(\"data : \", data_c_double, \", bertipe : \", type(data_c_double))"
      ],
      "metadata": {
        "colab": {
          "base_uri": "https://localhost:8080/"
        },
        "id": "exwQEUkrpHh2",
        "outputId": "03b2b880-c438-4f85-aa4a-0b9259ad3cd0"
      },
      "execution_count": null,
      "outputs": [
        {
          "output_type": "stream",
          "name": "stdout",
          "text": [
            "data :  1 , bertipe :  <class 'int'>\n",
            "data :  1.5 , bertipe :  <class 'float'>\n",
            "data :  Awas jatoh , bertipe :  <class 'str'>\n",
            "data :  True , bertipe :  <class 'bool'>\n",
            "data :  (5+6j) , bertipe :  <class 'complex'>\n",
            "data :  c_double(10.5) , bertipe :  <class 'ctypes.c_double'>\n"
          ]
        }
      ]
    },
    {
      "cell_type": "markdown",
      "source": [
        "### #4 Casting Tipe Data"
      ],
      "metadata": {
        "id": "MUQZFjw8sHlO"
      }
    },
    {
      "cell_type": "code",
      "source": [
        "# merubah satu tipe ke tipe lain\n",
        "\n",
        "data_int = 9\n",
        "print(\"data : \", data_int, \", bertipe : \", type(data_int))\n",
        "\n",
        "data_float = float(data_int)\n",
        "data_str = str(data_int)\n",
        "data_bool = bool(data_int)\n",
        "\n",
        "print(\"data : \", data_float, \", bertipe : \", type(data_float))\n",
        "print(\"data : \", data_str, \", bertipe : \", type(data_str))\n",
        "print(\"data : \", data_bool, \", bertipe : \", type(data_bool)) # 0 = false, != 0 true\n",
        "\n",
        "data_int = int(data_float)\n",
        "print(\"data : \", data_int, \", bertipe : \", type(data_int)) # dibulatkan kebawah"
      ],
      "metadata": {
        "colab": {
          "base_uri": "https://localhost:8080/"
        },
        "id": "wlXkUE9tsNBs",
        "outputId": "e8a1c7fe-b47b-4c72-a8ff-1d878acd2382"
      },
      "execution_count": null,
      "outputs": [
        {
          "output_type": "stream",
          "name": "stdout",
          "text": [
            "data :  9 , bertipe :  <class 'int'>\n",
            "data :  9.0 , bertipe :  <class 'float'>\n",
            "data :  9 , bertipe :  <class 'str'>\n",
            "data :  True , bertipe :  <class 'bool'>\n",
            "data :  9 , bertipe :  <class 'int'>\n"
          ]
        }
      ]
    },
    {
      "cell_type": "markdown",
      "source": [
        "### #5 Mengambil Input User"
      ],
      "metadata": {
        "id": "YytXoKMsuWEn"
      }
    },
    {
      "cell_type": "code",
      "source": [
        "data = input(\"Masukkan data: \")\n",
        "print(\"data = \", data, \", type = \", type(data))\n",
        "\n",
        "data = int(input(\"Masukkan data: \"))\n",
        "print(\"data = \", data, \", type = \", type(data))\n",
        "\n",
        "data = float(input(\"Masukkan data: \"))\n",
        "print(\"data = \", data, \", type = \", type(data))\n",
        "\n",
        "data = bool(int(input(\"Masukkan data: \")))\n",
        "print(\"data = \", data, \", type = \", type(data))"
      ],
      "metadata": {
        "colab": {
          "base_uri": "https://localhost:8080/"
        },
        "id": "PF_LbwBSuaUn",
        "outputId": "7ad87cf3-a512-43e8-db1e-b744a49ddc23"
      },
      "execution_count": null,
      "outputs": [
        {
          "output_type": "stream",
          "name": "stdout",
          "text": [
            "Masukkan data: 100\n",
            "data =  100 , type =  <class 'str'>\n",
            "Masukkan data: 2\n",
            "data =  2 , type =  <class 'int'>\n",
            "Masukkan data: 2.6\n",
            "data =  2.6 , type =  <class 'float'>\n",
            "Masukkan data: 0\n",
            "data =  False , type =  <class 'bool'>\n"
          ]
        }
      ]
    },
    {
      "cell_type": "markdown",
      "source": [
        "### #6 Aritmatika"
      ],
      "metadata": {
        "id": "6_vgZnMrxxoL"
      }
    },
    {
      "cell_type": "code",
      "source": [
        "a = 10\n",
        "b = 3\n",
        "\n",
        "hasil = a + b\n",
        "print(a, '+', b, '=', hasil)\n",
        "\n",
        "hasil = a - b\n",
        "print(a, '-', b, '=', hasil)\n",
        "\n",
        "hasil = a / b\n",
        "print(a, '/', b, '=', hasil)\n",
        "\n",
        "hasil = a * b\n",
        "print(a, '*', b, '=', hasil)\n",
        "\n",
        "# eksponen (pangkat)\n",
        "hasil = a ** b\n",
        "print(a, '**', b, '=', hasil)\n",
        "\n",
        "# modulus (sisa bagi)\n",
        "hasil = a % b\n",
        "print(a, '%', b, '=', hasil)\n",
        "\n",
        "# floor division (bagi tapi double, kebalikan modulus)\n",
        "hasil = a // b\n",
        "print(a, '//', b, '=', hasil)\n",
        "\n",
        "# prioritas operasi\n",
        "\"\"\"\n",
        "  1. ()\n",
        "  2. exponen **\n",
        "  3. perkalian dan teman-teman * / ** % //\n",
        "  4. pertambahan dan pengurangan\n",
        "\"\"\"\n",
        "x = 3\n",
        "y = 2\n",
        "z = 4\n",
        "\n",
        "hasil = x ** y * z + x / y - y % z // x\n",
        "print(\"Hasil = \", hasil)\n"
      ],
      "metadata": {
        "colab": {
          "base_uri": "https://localhost:8080/"
        },
        "id": "Mr4J8lwJx0tU",
        "outputId": "c4b06c05-4eb4-4a7b-add5-08e4d40676fd"
      },
      "execution_count": null,
      "outputs": [
        {
          "output_type": "stream",
          "name": "stdout",
          "text": [
            "10 + 3 = 13\n",
            "10 - 3 = 7\n",
            "10 / 3 = 3.3333333333333335\n",
            "10 * 3 = 30\n",
            "10 ** 3 = 1000\n",
            "10 % 3 = 1\n",
            "10 // 3 = 3\n",
            "Hasil =  37.5\n"
          ]
        }
      ]
    },
    {
      "cell_type": "markdown",
      "source": [
        "### #7 Perhitungan Sederhana"
      ],
      "metadata": {
        "id": "vhC8AMhCFvM4"
      }
    },
    {
      "cell_type": "code",
      "source": [
        "# Program konversi suhu\n",
        "\n",
        "print(\"PROGRAM KONVERSI TEMPERATUR\");\n",
        "\n",
        "celcius = float(input(\"Masukkan suhu dalam celcius : \"))\n",
        "print(\"Suhu adalah = \", celcius, \" celcius\")\n",
        "\n",
        "# Reamur\n",
        "reamur = (4/5) * celcius\n",
        "print(\"Suhu adalah = \", reamur, \" reamur\")\n",
        "\n",
        "# Fahrenheit\n",
        "fahrenheit = ((9/5) * celcius) + 32\n",
        "print(\"Suhu adalah = \", fahrenheit, \" fahrenheit\")\n",
        "\n",
        "# Kelvin\n",
        "kelvin = celcius + 273\n",
        "print(\"Suhu adalah = \", kelvin, \" kelvin\")"
      ],
      "metadata": {
        "colab": {
          "base_uri": "https://localhost:8080/"
        },
        "id": "9DVs_oCjFzZs",
        "outputId": "13fd9ab2-d420-4b23-cd54-0a8d9d545df2"
      },
      "execution_count": 1,
      "outputs": [
        {
          "output_type": "stream",
          "name": "stdout",
          "text": [
            "PROGRAM KONVERSI TEMPERATUR\n",
            "Masukkan suhu dalam celcius : 10\n",
            "Suhu adalah =  10.0  celcius\n",
            "Suhu adalah =  8.0  reamur\n",
            "Suhu adalah =  50.0  fahrenheit\n",
            "Suhu adalah =  283.0  kelvin\n"
          ]
        }
      ]
    },
    {
      "cell_type": "markdown",
      "source": [
        "### #8 Operasi Komparasi"
      ],
      "metadata": {
        "id": "IbF-_vh9IHJc"
      }
    },
    {
      "cell_type": "code",
      "source": [
        "# operasi komparasi\n",
        "\n",
        "# setiap hasil dari operasi komparasi adalah boolean\n",
        "\n",
        "# >,<,>=,<=,==,!=,is,is not\n",
        "\n",
        "a = 4\n",
        "b = 2\n",
        "\n",
        "# lebih besar dari >\n",
        "print('========== lebih besar dari (>)')\n",
        "hasil = a > 3\n",
        "print(a,'>',3,'=',hasil)\n",
        "hasil = b > 3\n",
        "print(b,'>',3,'=',hasil)\n",
        "hasil = b > 2\n",
        "print(b,'>',2,'=',hasil)\n",
        "\n",
        "# kurang dari <\n",
        "print('========== kurang dari (<)')\n",
        "hasil = a < 3\n",
        "print(a,'<',3,'=',hasil)\n",
        "hasil = b < 3\n",
        "print(b,'<',3,'=',hasil)\n",
        "hasil = b < 2\n",
        "print(b,'<',2,'=',hasil)\n",
        "\n",
        "# lebih dari sama dengan >=\n",
        "print('========== lebih dari sama dengan(>=)')\n",
        "hasil = a >= 3\n",
        "print(a,'>=',3,'=',hasil)\n",
        "hasil = b >= 3\n",
        "print(b,'>=',3,'=',hasil)\n",
        "hasil = b >= 2\n",
        "print(b,'>=',2,'=',hasil)\n",
        "\n",
        "# kurang dari sama dengan <=\n",
        "print('======== kurang dari sama dengan(<=)')\n",
        "hasil = a <= 3\n",
        "print(a,'<=',3,'=',hasil)\n",
        "hasil = b <= 3\n",
        "print(b,'<=',3,'=',hasil)\n",
        "hasil = b <= 2\n",
        "print(b,'<=',2,'=',hasil)\n",
        "\n",
        "# sama dengan (==)\n",
        "print('======== sama dengan(==)')\n",
        "hasil = a == 4\n",
        "print(a,'==',4,'=',hasil)\n",
        "hasil = b == 4\n",
        "print(b,'==',4,'=',hasil)\n",
        "\n",
        "# tidak sama dengan (!=)\n",
        "print('======== sama dengan(!=)')\n",
        "hasil = a != 4\n",
        "print(a,'!=',4,'=',hasil)\n",
        "hasil = b != 4\n",
        "print(b,'!=',4,'=',hasil)\n",
        "\n",
        "# 'is' sebagai komparasi object identity\n",
        "print('======== object identity(is)')\n",
        "x = 5 # ini adalah assignment membuat object\n",
        "y = 5\n",
        "print('nilai x =',x,',id = ',hex(id(x)))\n",
        "print('nilai y =',y,',id = ',hex(id(y)))\n",
        "hasil = x is y\n",
        "print('x is y =',hasil)\n",
        "\n",
        "x = 5 # ini adalah assignment membuat object\n",
        "y = 6\n",
        "print('nilai x =',x,',id = ',hex(id(x)))\n",
        "print('nilai y =',y,',id = ',hex(id(y)))\n",
        "hasil = x is y\n",
        "print('x is y =',hasil)\n",
        "\n",
        "print('======== object identity(is not)')\n",
        "x = 5 # ini adalah assignment membuat object\n",
        "y = 5\n",
        "print('nilai x =',x,',id = ',hex(id(x)))\n",
        "print('nilai y =',y,',id = ',hex(id(y)))\n",
        "hasil = x is not y\n",
        "print('x is y =',hasil)\n",
        "\n",
        "x = 5 # ini adalah assignment membuat object\n",
        "y = 6\n",
        "print('nilai x =',x,',id = ',hex(id(x)))\n",
        "print('nilai y =',y,',id = ',hex(id(y)))\n",
        "hasil = x is not y\n",
        "print('x is y =',hasil)"
      ],
      "metadata": {
        "colab": {
          "base_uri": "https://localhost:8080/"
        },
        "id": "jS9CO7pnIKxi",
        "outputId": "83b39f1f-576e-4021-e531-7a41f6f920de"
      },
      "execution_count": 2,
      "outputs": [
        {
          "output_type": "stream",
          "name": "stdout",
          "text": [
            "========== lebih besar dari (>)\n",
            "4 > 3 = True\n",
            "2 > 3 = False\n",
            "2 > 2 = False\n",
            "========== kurang dari (<)\n",
            "4 < 3 = False\n",
            "2 < 3 = True\n",
            "2 < 2 = False\n",
            "========== lebih dari sama dengan(>=)\n",
            "4 >= 3 = True\n",
            "2 >= 3 = False\n",
            "2 >= 2 = True\n",
            "======== kurang dari sama dengan(<=)\n",
            "4 <= 3 = False\n",
            "2 <= 3 = True\n",
            "2 <= 2 = True\n",
            "======== sama dengan(==)\n",
            "4 == 4 = True\n",
            "2 == 4 = False\n",
            "======== sama dengan(!=)\n",
            "4 != 4 = False\n",
            "2 != 4 = True\n",
            "======== object identity(is)\n",
            "nilai x = 5 ,id =  0xabc180\n",
            "nilai y = 5 ,id =  0xabc180\n",
            "x is y = True\n",
            "nilai x = 5 ,id =  0xabc180\n",
            "nilai y = 6 ,id =  0xabc1a0\n",
            "x is y = False\n",
            "======== object identity(is not)\n",
            "nilai x = 5 ,id =  0xabc180\n",
            "nilai y = 5 ,id =  0xabc180\n",
            "x is y = False\n",
            "nilai x = 5 ,id =  0xabc180\n",
            "nilai y = 6 ,id =  0xabc1a0\n",
            "x is y = True\n"
          ]
        }
      ]
    },
    {
      "cell_type": "markdown",
      "source": [
        "### #9 Operasi Logika Boolean"
      ],
      "metadata": {
        "id": "svxurIxgOUIr"
      }
    },
    {
      "cell_type": "code",
      "source": [
        "# operasi logika atau boolean\n",
        "\n",
        "# not, or, and, xor\n",
        "\n",
        "# NOT\n",
        "print('====NOT====')\n",
        "a = False\n",
        "c = not a\n",
        "print('data a =',a)\n",
        "print('-------------- NOT')\n",
        "print('data c =',c)\n",
        "\n",
        "# OR (jika salah satu true, maka hasilnya adalah true)\n",
        "print('====OR====')\n",
        "a = False\n",
        "b = False\n",
        "c = a or b\n",
        "print(a,'OR',b,'=',c)\n",
        "a = False\n",
        "b = True\n",
        "c = a or b\n",
        "print(a,'OR',b,' =',c)\n",
        "a = True\n",
        "b = False\n",
        "c = a or b\n",
        "print(a,' OR',b,'=',c)\n",
        "a = True\n",
        "b = True\n",
        "c = a or b\n",
        "print(a,' OR',b,' =',c)\n",
        "\n",
        "# AND (jika dua buah nilai true, maka hasil true)\n",
        "print('====AND====')\n",
        "a = False\n",
        "b = False\n",
        "c = a and b\n",
        "print(a,'AND',b,'=',c)\n",
        "a = False\n",
        "b = True\n",
        "c = a and b\n",
        "print(a,'AND',b,' =',c)\n",
        "a = True\n",
        "b = False\n",
        "c = a and b\n",
        "print(a,' AND',b,'=',c)\n",
        "a = True\n",
        "b = True\n",
        "c = a and b\n",
        "print(a,' AND',b,' =',c)\n",
        "\n",
        "# XOR (akan true jika salah satu true, sisanya false)\n",
        "print('====XOR====')\n",
        "a = False\n",
        "b = False\n",
        "c = a ^ b\n",
        "print(a,'XOR',b,'=',c)\n",
        "a = False\n",
        "b = True\n",
        "c = a ^ b\n",
        "print(a,'XOR',b,' =',c)\n",
        "a = True\n",
        "b = False\n",
        "c = a ^ b\n",
        "print(a,' XOR',b,'=',c)\n",
        "a = True\n",
        "b = True\n",
        "c = a ^ b\n",
        "print(a,' XOR',b,' =',c)"
      ],
      "metadata": {
        "colab": {
          "base_uri": "https://localhost:8080/"
        },
        "id": "EeVp62hMOfBB",
        "outputId": "45b662f8-8515-4aeb-9505-b20314aa030c"
      },
      "execution_count": 3,
      "outputs": [
        {
          "output_type": "stream",
          "name": "stdout",
          "text": [
            "====NOT====\n",
            "data a = False\n",
            "-------------- NOT\n",
            "data c = True\n",
            "====OR====\n",
            "False OR False = False\n",
            "False OR True  = True\n",
            "True  OR False = True\n",
            "True  OR True  = True\n",
            "====AND====\n",
            "False AND False = False\n",
            "False AND True  = False\n",
            "True  AND False = False\n",
            "True  AND True  = True\n",
            "====XOR====\n",
            "False XOR False = False\n",
            "False XOR True  = True\n",
            "True  XOR False = True\n",
            "True  XOR True  = False\n"
          ]
        }
      ]
    },
    {
      "cell_type": "markdown",
      "source": [
        "### #10 Latihan Komparasi dan Logika"
      ],
      "metadata": {
        "id": "uQ1CLWOoOidZ"
      }
    },
    {
      "cell_type": "code",
      "source": [
        "# episode latihan logika dan komparasi\n",
        "\n",
        "# membuat gabungan area rentang dari angka\n",
        "\n",
        "# ++++++3--------10+++++++\n",
        "\n",
        "inputUser = float(input(\"masukan angka yang bernilai\\nkurang dari 3 \\natau \\nlebih besar dari 10\\n:\"))\n",
        "\n",
        "# ++++++3-----------------\n",
        "# Memeriksa angka kurang dari 3\n",
        "isKurangDari = (inputUser < 3)\n",
        "print(\"Kurang dari 3 =\", isKurangDari)\n",
        "\n",
        "# ---------------10++++++++\n",
        "# Memeriksa angka lebih dari 10\n",
        "isLebihDari = (inputUser > 10)\n",
        "print(\"Lebih dari 10 =\", isLebihDari)\n",
        "\n",
        "# ++++++3--------10+++++++\n",
        "\n",
        "isCorrect = isKurangDari or isLebihDari\n",
        "print(\"angka yang anda masukan: \", isCorrect)\n",
        "\n",
        "\n",
        "# -----3++++++++10--------\n",
        "# kasus irisan\n",
        "print(\"\\n\",10*\"=\",\"\\n\")\n",
        "inputUser = float(input(\"masukan angka yang bernilai\\nlebih dari 3 \\ndan \\nkurang dari 10\\n:\"))\n",
        "\n",
        "# -----3++++++++++++++++++\n",
        "# lebih dari 3\n",
        "isLebihDari = inputUser > 3\n",
        "print(\"Lebih dari 3 = \",isLebihDari)\n",
        "\n",
        "# +++++++++++++++10-------\n",
        "# kurang dari 10\n",
        "isKurangDari = inputUser < 10\n",
        "print(\"Kurang dari 10 = \",isKurangDari)\n",
        "\n",
        "# -----3++++++++10--------\n",
        "isCorrect = isKurangDari and isLebihDari\n",
        "print(\"angka yang anda masukan: \", isCorrect)"
      ],
      "metadata": {
        "colab": {
          "base_uri": "https://localhost:8080/"
        },
        "id": "f90UcdMgOpBd",
        "outputId": "dfa35a86-e2b1-4888-abef-75a26d92d6a9"
      },
      "execution_count": 4,
      "outputs": [
        {
          "output_type": "stream",
          "name": "stdout",
          "text": [
            "masukan angka yang bernilai\n",
            "kurang dari 3 \n",
            "atau \n",
            "lebih besar dari 10\n",
            ":1\n",
            "Kurang dari 3 = True\n",
            "Lebih dari 10 = False\n",
            "angka yang anda masukan:  True\n",
            "\n",
            " ========== \n",
            "\n",
            "masukan angka yang bernilai\n",
            "lebih dari 3 \n",
            "dan \n",
            "kurang dari 10\n",
            ":8\n",
            "Lebih dari 3 =  True\n",
            "Kurang dari 10 =  True\n",
            "angka yang anda masukan:  True\n"
          ]
        }
      ]
    }
  ]
}